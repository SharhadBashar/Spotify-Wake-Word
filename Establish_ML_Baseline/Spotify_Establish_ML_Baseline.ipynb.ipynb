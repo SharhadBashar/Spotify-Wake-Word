{
  "nbformat": 4,
  "nbformat_minor": 0,
  "metadata": {
    "colab": {
      "provenance": []
    },
    "kernelspec": {
      "name": "python3",
      "display_name": "Python 3"
    },
    "language_info": {
      "name": "python"
    }
  },
  "cells": [
    {
      "cell_type": "code",
      "execution_count": 1,
      "metadata": {
        "colab": {
          "base_uri": "https://localhost:8080/"
        },
        "id": "yfs-D2XgnMsg",
        "outputId": "8558c6c2-6b87-4377-bcb8-0f8ac446f98b"
      },
      "outputs": [
        {
          "output_type": "stream",
          "name": "stdout",
          "text": [
            "Drive already mounted at /content/drive; to attempt to forcibly remount, call drive.mount(\"/content/drive\", force_remount=True).\n"
          ]
        }
      ],
      "source": [
        "from google.colab import drive\n",
        "drive.mount('/content/drive')"
      ]
    },
    {
      "cell_type": "code",
      "source": [
        "pip install AudioSegment"
      ],
      "metadata": {
        "colab": {
          "base_uri": "https://localhost:8080/"
        },
        "id": "qovF2uXmC3rj",
        "outputId": "95095a51-9b05-4da6-d0f0-39cb7bb721e5"
      },
      "execution_count": 2,
      "outputs": [
        {
          "output_type": "stream",
          "name": "stdout",
          "text": [
            "Looking in indexes: https://pypi.org/simple, https://us-python.pkg.dev/colab-wheels/public/simple/\n",
            "Collecting AudioSegment\n",
            "  Downloading audiosegment-0.23.0-py3-none-any.whl (34 kB)\n",
            "Collecting webrtcvad\n",
            "  Downloading webrtcvad-2.0.10.tar.gz (66 kB)\n",
            "\u001b[K     |████████████████████████████████| 66 kB 2.7 MB/s \n",
            "\u001b[?25hCollecting pydub\n",
            "  Downloading pydub-0.25.1-py2.py3-none-any.whl (32 kB)\n",
            "Requirement already satisfied: numpy in /usr/local/lib/python3.8/dist-packages (from AudioSegment) (1.21.6)\n",
            "Building wheels for collected packages: webrtcvad\n",
            "  Building wheel for webrtcvad (setup.py) ... \u001b[?25l\u001b[?25hdone\n",
            "  Created wheel for webrtcvad: filename=webrtcvad-2.0.10-cp38-cp38-linux_x86_64.whl size=71473 sha256=60d4991f1708f391a0f9c02c5a294692e150097e89f9bc9377e86f80efb54565\n",
            "  Stored in directory: /root/.cache/pip/wheels/75/e1/fc/01099a9fd0882ce84cc99eb51495812bb8a703461c2b0ca1cb\n",
            "Successfully built webrtcvad\n",
            "Installing collected packages: webrtcvad, pydub, AudioSegment\n",
            "Successfully installed AudioSegment-0.23.0 pydub-0.25.1 webrtcvad-2.0.10\n"
          ]
        }
      ]
    },
    {
      "cell_type": "code",
      "source": [
        "pip install SpeechRecognition"
      ],
      "metadata": {
        "colab": {
          "base_uri": "https://localhost:8080/"
        },
        "id": "xygx-Zb_JKrc",
        "outputId": "af1a2d7d-0c5e-42ce-afdd-f7fda13cf41d"
      },
      "execution_count": 4,
      "outputs": [
        {
          "output_type": "stream",
          "name": "stdout",
          "text": [
            "Looking in indexes: https://pypi.org/simple, https://us-python.pkg.dev/colab-wheels/public/simple/\n",
            "Collecting SpeechRecognition\n",
            "  Downloading SpeechRecognition-3.9.0-py2.py3-none-any.whl (32.8 MB)\n",
            "\u001b[K     |████████████████████████████████| 32.8 MB 203 kB/s \n",
            "\u001b[?25hCollecting requests>=2.26.0\n",
            "  Downloading requests-2.28.1-py3-none-any.whl (62 kB)\n",
            "\u001b[K     |████████████████████████████████| 62 kB 1.4 MB/s \n",
            "\u001b[?25hRequirement already satisfied: idna<4,>=2.5 in /usr/local/lib/python3.8/dist-packages (from requests>=2.26.0->SpeechRecognition) (2.10)\n",
            "Requirement already satisfied: urllib3<1.27,>=1.21.1 in /usr/local/lib/python3.8/dist-packages (from requests>=2.26.0->SpeechRecognition) (1.24.3)\n",
            "Requirement already satisfied: certifi>=2017.4.17 in /usr/local/lib/python3.8/dist-packages (from requests>=2.26.0->SpeechRecognition) (2022.9.24)\n",
            "Requirement already satisfied: charset-normalizer<3,>=2 in /usr/local/lib/python3.8/dist-packages (from requests>=2.26.0->SpeechRecognition) (2.1.1)\n",
            "Installing collected packages: requests, SpeechRecognition\n",
            "  Attempting uninstall: requests\n",
            "    Found existing installation: requests 2.23.0\n",
            "    Uninstalling requests-2.23.0:\n",
            "      Successfully uninstalled requests-2.23.0\n",
            "Successfully installed SpeechRecognition-3.9.0 requests-2.28.1\n"
          ]
        }
      ]
    },
    {
      "cell_type": "code",
      "source": [
        "import os\n",
        "from os import path\n",
        "from pydub import AudioSegment\n",
        "\n",
        "# data_path = '../Data/'\n",
        "data_path = '/content/drive/MyDrive/Colab Notebooks/cv-corpus-11.0-delta-2022-09-21-en/'\n",
        "data_output_path = '/content/drive/MyDrive/Colab Notebooks/cv-corpus-11.0-delta-2022-09-21-en/wav-files/'\n",
        "\n",
        "input_format = '.mp3'\n",
        "output_format = '.wav'\n",
        "cv_filenames = ['common_voice_en_33152278', 'common_voice_en_33152279', 'common_voice_en_33152280', 'common_voice_en_33152281']\n",
        "\n",
        "# converts the mp3 audio files in mozilla dataset to wav format audio files and saves wav audio file\n",
        "def convertmp3towav(inpt, out):\n",
        "    sound = AudioSegment.from_mp3(data_path + inpt + input_format)\n",
        "    sound.export(data_output_path + out + output_format, format = 'wav')\n",
        "\n",
        "for cv in cv_filenames:\n",
        "    convertmp3towav(cv, cv)"
      ],
      "metadata": {
        "id": "D9R886Q9Cp0-"
      },
      "execution_count": 8,
      "outputs": []
    },
    {
      "cell_type": "code",
      "source": [
        "# importing the module\n",
        "import speech_recognition as sr\n",
        "\n",
        "audio_wav_input_path = '/content/drive/MyDrive/Colab Notebooks/cv-corpus-11.0-delta-2022-09-21-en/wav-files/'\n",
        "audio_text_output_path = '/content/drive/MyDrive/Colab Notebooks/cv-corpus-11.0-delta-2022-09-21-en/audio-text-files/'\n",
        "\n",
        "wav_input_format = '.wav'\n",
        "text_output_format = '.txt'\n",
        "cv_filenames = ['common_voice_en_33152278', 'common_voice_en_33152279', 'common_voice_en_33152280', 'common_voice_en_33152281']\n",
        "\n",
        "# converts the wav format audio files to text files and saves the text file.\n",
        "def convertwavtoTxt(inptfile, outfile):\n",
        "\n",
        "  # define the recognizer\n",
        "  r = sr.Recognizer()\n",
        "\n",
        "  # define the audio file\n",
        "  audio_file = sr.AudioFile(audio_wav_input_path + inptfile + wav_input_format)\n",
        "\n",
        "  # speech recognition\n",
        "  with audio_file as source: \n",
        "    r.adjust_for_ambient_noise(source) \n",
        "    audio = r.record(source)\n",
        "  result = r.recognize_google(audio)\n",
        "\n",
        "  # exporting the result \n",
        "  with open(audio_text_output_path + outfile + text_output_format, mode ='w') as file: \n",
        "    file.write(\"Recognized text:\") \n",
        "    file.write(\"\\n\") \n",
        "    file.write(result) \n",
        "    print(\"ready!\")\n",
        "\n",
        "for cv in cv_filenames:\n",
        "    convertwavtoTxt(cv, cv)\n"
      ],
      "metadata": {
        "colab": {
          "base_uri": "https://localhost:8080/"
        },
        "id": "nA4SLAHJnTyE",
        "outputId": "079da369-ac97-4608-8537-9ef942c3c18c"
      },
      "execution_count": 9,
      "outputs": [
        {
          "output_type": "stream",
          "name": "stdout",
          "text": [
            "result2:\n",
            "{   'alternative': [   {   'confidence': 0.8322196,\n",
            "                           'transcript': 'he was endorsed by the National '\n",
            "                                         'Rifle Association'},\n",
            "                       {   'transcript': 'divorce endorsed by the National '\n",
            "                                         'Rifle Association'},\n",
            "                       {   'transcript': 'evos endorsed by the National Rifle '\n",
            "                                         'Association'},\n",
            "                       {   'transcript': 'eboss endorsed by the National Rifle '\n",
            "                                         'Association'},\n",
            "                       {   'transcript': 'G-Force endorsed by the National '\n",
            "                                         'Rifle Association'}],\n",
            "    'final': True}\n",
            "ready!\n",
            "result2:\n",
            "{   'alternative': [   {   'confidence': 0.76622212,\n",
            "                           'transcript': 'state became known for the '\n",
            "                                         'entertainment they provided to '\n",
            "                                         'visitors to the family house'},\n",
            "                       {   'transcript': 'became known for the entertainment '\n",
            "                                         'they provided to visitors to the '\n",
            "                                         'family house'},\n",
            "                       {   'transcript': 'state became known for the '\n",
            "                                         'entertainment they provide two '\n",
            "                                         'visitors to the family house'},\n",
            "                       {   'transcript': 'became known for the entertainment '\n",
            "                                         'they provide two visitors to the '\n",
            "                                         'family house'},\n",
            "                       {   'transcript': 'state became known for the '\n",
            "                                         'entertainment they provide to '\n",
            "                                         'visitors to the family house'}],\n",
            "    'final': True}\n",
            "ready!\n",
            "result2:\n",
            "{   'alternative': [   {   'confidence': 0.6707778,\n",
            "                           'transcript': 'the commission consisted of 10 '\n",
            "                                         'people'},\n",
            "                       {'transcript': 'commission consisted of 10 people'},\n",
            "                       {'transcript': 'the commission consisted of ten people'},\n",
            "                       {'transcript': 'commission consisted of ten people'},\n",
            "                       {'transcript': 'commissioned consisted of 10 people'}],\n",
            "    'final': True}\n",
            "ready!\n",
            "result2:\n",
            "{   'alternative': [   {   'confidence': 0.59742594,\n",
            "                           'transcript': 'one person was introvert to reset '\n",
            "                                         'evacuation after being cut down by '\n",
            "                                         'rope'},\n",
            "                       {   'transcript': 'OnePlus was introvert to reset '\n",
            "                                         'evacuation after being cut down by '\n",
            "                                         'rope'},\n",
            "                       {   'transcript': 'one person was insured to reset '\n",
            "                                         'evacuation after being cut down by '\n",
            "                                         'rope'},\n",
            "                       {   'transcript': 'one person was introvert to reset if '\n",
            "                                         'I crash after being cut down by '\n",
            "                                         'rope'},\n",
            "                       {   'transcript': 'one person was insured to reset '\n",
            "                                         'evacuation after being cuz I want '\n",
            "                                         'down by rope'}],\n",
            "    'final': True}\n",
            "ready!\n"
          ]
        }
      ]
    },
    {
      "cell_type": "code",
      "source": [],
      "metadata": {
        "id": "3mHjsu_FSus7"
      },
      "execution_count": null,
      "outputs": []
    }
  ]
}