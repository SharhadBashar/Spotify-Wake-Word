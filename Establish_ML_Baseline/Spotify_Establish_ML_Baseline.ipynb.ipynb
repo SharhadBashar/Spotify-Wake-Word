{
 "cells": [
  {
   "cell_type": "code",
   "execution_count": null,
   "metadata": {
    "colab": {
     "base_uri": "https://localhost:8080/"
    },
    "id": "yfs-D2XgnMsg",
    "outputId": "8558c6c2-6b87-4377-bcb8-0f8ac446f98b"
   },
   "outputs": [],
   "source": []
  },
  {
   "cell_type": "code",
   "execution_count": null,
   "metadata": {
    "colab": {
     "base_uri": "https://localhost:8080/"
    },
    "id": "qovF2uXmC3rj",
    "outputId": "95095a51-9b05-4da6-d0f0-39cb7bb721e5"
   },
   "outputs": [],
   "source": []
  },
  {
   "cell_type": "code",
   "execution_count": null,
   "metadata": {
    "colab": {
     "base_uri": "https://localhost:8080/"
    },
    "id": "xygx-Zb_JKrc",
    "outputId": "af1a2d7d-0c5e-42ce-afdd-f7fda13cf41d"
   },
   "outputs": [],
   "source": []
  },
  {
   "cell_type": "code",
   "execution_count": 3,
   "metadata": {
    "id": "D9R886Q9Cp0-"
   },
   "outputs": [],
   "source": [
    "import os\n",
    "from os import path\n",
    "from pydub import AudioSegment\n",
    "\n",
    "data_path = '../Data/'\n",
    "# data_path = '/content/drive/MyDrive/Colab Notebooks/cv-corpus-11.0-delta-2022-09-21-en/'\n",
    "# data_output_path = '/content/drive/MyDrive/Colab Notebooks/cv-corpus-11.0-delta-2022-09-21-en/wav-files/'\n",
    "\n",
    "input_format = '.mp3'\n",
    "output_format = '.wav'\n",
    "cv_filenames = ['common_voice_en_33152278', 'common_voice_en_33152279', 'common_voice_en_33152280', 'common_voice_en_33152281']\n",
    "\n",
    "# converts the mp3 audio files in mozilla dataset to wav format audio files and saves wav audio file\n",
    "def convertmp3towav(inpt, out):\n",
    "    sound = AudioSegment.from_mp3(data_path + inpt + input_format)\n",
    "    sound.export(data_output_path + out + output_format, format = 'wav')\n",
    "\n",
    "# for cv in cv_filenames:\n",
    "#     convertmp3towav(cv, cv)"
   ]
  },
  {
   "cell_type": "code",
   "execution_count": 14,
   "metadata": {
    "colab": {
     "base_uri": "https://localhost:8080/"
    },
    "id": "nA4SLAHJnTyE",
    "outputId": "079da369-ac97-4608-8537-9ef942c3c18c"
   },
   "outputs": [
    {
     "name": "stdout",
     "output_type": "stream",
     "text": [
      "['Spotify', 'the Spotify', 'a Spotify', 'on Spotify', 'go to Spotify']\n",
      "['Siri', 'Theory']\n"
     ]
    }
   ],
   "source": [
    "# importing the module\n",
    "import speech_recognition as sr\n",
    "\n",
    "audio_wav_input_path = '../Data/test/'\n",
    "wav_input_format = '.wav'\n",
    "text_output_format = '.txt'\n",
    "cv_filenames = ['spotify', 'siri']\n",
    "# converts the wav format audio files to text files and saves the text file.\n",
    "def convertwavtoTxt(inptfile, outfile):\n",
    "\n",
    "  # define the recognizer\n",
    "    r = sr.Recognizer()\n",
    "\n",
    "  # define the audio file\n",
    "    audio_file = sr.AudioFile(audio_wav_input_path + inptfile + wav_input_format)\n",
    "\n",
    "  # speech recognition\n",
    "    with audio_file as source: \n",
    "        r.adjust_for_ambient_noise(source) \n",
    "        audio = r.record(source)\n",
    "    result = r.recognize_google(audio, show_all=True)\n",
    "    \n",
    "    \n",
    "    results = []\n",
    "    for i in result['alternative']:\n",
    "        results.append(i['transcript'])\n",
    "    print(results)\n",
    "#     for i in result['alternative']:\n",
    "#         if ('play spotify' in i['transcript'].lower()): return True\n",
    "#     return False\n",
    "    \n",
    "for cv in cv_filenames:\n",
    "    (convertwavtoTxt(cv, cv))\n"
   ]
  },
  {
   "cell_type": "code",
   "execution_count": null,
   "metadata": {
    "id": "3mHjsu_FSus7"
   },
   "outputs": [],
   "source": []
  }
 ],
 "metadata": {
  "colab": {
   "provenance": []
  },
  "kernelspec": {
   "display_name": "Python 3 (ipykernel)",
   "language": "python",
   "name": "python3"
  },
  "language_info": {
   "codemirror_mode": {
    "name": "ipython",
    "version": 3
   },
   "file_extension": ".py",
   "mimetype": "text/x-python",
   "name": "python",
   "nbconvert_exporter": "python",
   "pygments_lexer": "ipython3",
   "version": "3.10.8"
  }
 },
 "nbformat": 4,
 "nbformat_minor": 1
}
