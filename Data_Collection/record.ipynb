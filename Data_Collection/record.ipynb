{
 "cells": [
  {
   "cell_type": "code",
   "execution_count": 1,
   "id": "4d6df445",
   "metadata": {},
   "outputs": [],
   "source": [
    "import pyaudio\n",
    "import wave"
   ]
  },
  {
   "cell_type": "code",
   "execution_count": 2,
   "id": "ebe7e53f",
   "metadata": {},
   "outputs": [],
   "source": [
    "def record(filename, seconds):\n",
    "    chunk = 1024  # Record in chunks of 1024 samples\n",
    "    sample_format = pyaudio.paInt32  # 32 bits per sample\n",
    "    channels = 1\n",
    "    fs = 44100  # Record at 44100 samples per second\n",
    "\n",
    "    p = pyaudio.PyAudio()  # Create an interface to PortAudio\n",
    "\n",
    "    print('Recording' + filename)\n",
    "    print('Start...')\n",
    "\n",
    "    stream = p.open(format = sample_format,\n",
    "                    channels = channels,\n",
    "                    rate = fs,\n",
    "                    frames_per_buffer = chunk,\n",
    "                    input = True)\n",
    "\n",
    "    frames = []  # Initialize array to store frames\n",
    "\n",
    "    # Store data in chunks for 3 seconds\n",
    "    for i in range(0, int(fs / chunk * seconds)):\n",
    "        data = stream.read(chunk)\n",
    "        frames.append(data)\n",
    "\n",
    "    # Stop and close the stream \n",
    "    stream.stop_stream()\n",
    "    stream.close()\n",
    "    # Terminate the PortAudio interface\n",
    "    p.terminate()\n",
    "\n",
    "    print('Finished recording')\n",
    "\n",
    "    # Save the recorded data as a WAV file\n",
    "    wf = wave.open(filename, 'wb')\n",
    "    wf.setnchannels(channels)\n",
    "    wf.setsampwidth(p.get_sample_size(sample_format))\n",
    "    wf.setframerate(fs)\n",
    "    wf.writeframes(b''.join(frames))\n",
    "    wf.close()"
   ]
  },
  {
   "cell_type": "code",
   "execution_count": 3,
   "id": "6169fe44",
   "metadata": {},
   "outputs": [
    {
     "name": "stdout",
     "output_type": "stream",
     "text": [
      "0\n",
      "Recording../Data/record/spotify_0_man_3.wav\n",
      "Start...\n",
      "Finished recording\n"
     ]
    }
   ],
   "source": [
    "data_path = '../Data/record/'\n",
    "sound_type = {\n",
    "    0: ['spotify_0', 3], \n",
    "    1: ['spotify_1', 3],\n",
    "    2: ['spotify_2', 5],\n",
    "    3: ['spotify_3', 5],\n",
    "    4: ['spotify_4', 5],\n",
    "    5: ['spotify_5', 5],\n",
    "    6: ['spotify_6', 5],\n",
    "    7: ['spotify_7', 5],\n",
    "    8: ['spotify_8', 6],\n",
    "    \n",
    "    9: ['siri_0', 3],\n",
    "    10: ['siri_1', 4],\n",
    "    11: ['siri_2', 4],\n",
    "    \n",
    "    12: ['alexa_0', 2],\n",
    "    13: ['alexa_1', 4],\n",
    "    14: ['alexa_2', 4],\n",
    "    \n",
    "    15: ['google_0', 3],\n",
    "    16: ['google_1', 4],\n",
    "    17: ['google_2', 4]\n",
    "    \n",
    "}\n",
    "\n",
    "gender_age = {\n",
    "    0: '_man',\n",
    "    1: '_woman',\n",
    "    \n",
    "    2: '_old_man',\n",
    "    3: '_old_woman',\n",
    "    \n",
    "    4: '_young_man',\n",
    "    5: '_young_woman',\n",
    "    \n",
    "    6: '_kid_man',\n",
    "    7: '_kid woman'\n",
    "}\n",
    "i = int(input())\n",
    "record(data_path + sound_type[i][0] + gender_age[0] + '_3' + '.wav', sound_type[i][1])\n",
    "\n",
    "\n",
    "\n"
   ]
  },
  {
   "cell_type": "code",
   "execution_count": null,
   "id": "0e2bd427",
   "metadata": {},
   "outputs": [],
   "source": [
    "'''\n",
    "0: Laxmi 1\n",
    "1: Laxmis kid 6\n",
    "2: Laxmis friend 1 1\n",
    "3: laxmis friend 2 0\n",
    "'''"
   ]
  },
  {
   "cell_type": "code",
   "execution_count": null,
   "id": "216f5988",
   "metadata": {},
   "outputs": [],
   "source": [
    "17"
   ]
  }
 ],
 "metadata": {
  "kernelspec": {
   "display_name": "Python 3 (ipykernel)",
   "language": "python",
   "name": "python3"
  },
  "language_info": {
   "codemirror_mode": {
    "name": "ipython",
    "version": 3
   },
   "file_extension": ".py",
   "mimetype": "text/x-python",
   "name": "python",
   "nbconvert_exporter": "python",
   "pygments_lexer": "ipython3",
   "version": "3.10.8"
  }
 },
 "nbformat": 4,
 "nbformat_minor": 5
}
