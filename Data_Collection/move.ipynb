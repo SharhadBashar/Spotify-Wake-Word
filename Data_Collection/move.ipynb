{
 "cells": [
  {
   "cell_type": "code",
   "execution_count": 33,
   "id": "aaed037a",
   "metadata": {},
   "outputs": [],
   "source": [
    "import os\n",
    "import shutil\n",
    "from glob import glob\n",
    "from tqdm import tqdm"
   ]
  },
  {
   "cell_type": "code",
   "execution_count": 35,
   "id": "a8ab05ab",
   "metadata": {},
   "outputs": [
    {
     "name": "stdout",
     "output_type": "stream",
     "text": [
      "['../Data/0/zero_fb01a182_0.wav']\n"
     ]
    }
   ],
   "source": [
    "files = glob('../Data/0/*.wav')\n",
    "\n",
    "new_dest = '../Data/0/'\n",
    "for file in tqdm(files):\n",
    "    shutil.move(file, new_dest + file.split('/')[-1].split('_')[-1])\n",
    "files = glob('../Data/speech_commands/*/*.wav')\n",
    "for file in tqdm(files):\n",
    "    new_name = (file.split('/')[-2] + '_' + file.split('/')[-1]).replace('_nohash_', '_')\n",
    "    shutil.move(file, new_dest + file.split('/')[-1].split('_')[-1])\n"
   ]
  },
  {
   "cell_type": "code",
   "execution_count": 20,
   "id": "43b17075",
   "metadata": {},
   "outputs": [
    {
     "name": "stderr",
     "output_type": "stream",
     "text": [
      "100%|███████████████████████████████████████████████████████████████████████████████████████████████████████████████████████████████████████████████████████████████████████████████████████████████████████| 25265/25265 [00:01<00:00, 19998.91it/s]\n"
     ]
    }
   ],
   "source": []
  },
  {
   "cell_type": "code",
   "execution_count": null,
   "id": "07208d04",
   "metadata": {},
   "outputs": [],
   "source": []
  }
 ],
 "metadata": {
  "kernelspec": {
   "display_name": "Python 3 (ipykernel)",
   "language": "python",
   "name": "python3"
  },
  "language_info": {
   "codemirror_mode": {
    "name": "ipython",
    "version": 3
   },
   "file_extension": ".py",
   "mimetype": "text/x-python",
   "name": "python",
   "nbconvert_exporter": "python",
   "pygments_lexer": "ipython3",
   "version": "3.10.8"
  }
 },
 "nbformat": 4,
 "nbformat_minor": 5
}
