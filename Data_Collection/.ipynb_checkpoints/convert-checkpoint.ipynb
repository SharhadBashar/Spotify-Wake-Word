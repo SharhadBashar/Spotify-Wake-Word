{
 "cells": [
  {
   "cell_type": "code",
   "execution_count": 11,
   "id": "5f977e64",
   "metadata": {},
   "outputs": [],
   "source": [
    "import os\n",
    "from os import path\n",
    "from pydub import AudioSegment"
   ]
  },
  {
   "cell_type": "code",
   "execution_count": 7,
   "id": "693d9e74",
   "metadata": {},
   "outputs": [],
   "source": [
    "data_path = '../Data/'\n",
    "input_format = '.mp3'\n",
    "output_format = '.wav'\n",
    "cv_filenames = ['cv_1', 'cv_2', 'cv_3', 'cv_4']"
   ]
  },
  {
   "cell_type": "code",
   "execution_count": 12,
   "id": "695d217d",
   "metadata": {},
   "outputs": [],
   "source": [
    "def convert(inpt, out):\n",
    "    sound = AudioSegment.from_mp3(data_path + inpt + input_format)\n",
    "    sound.export(data_path + out + output_format, format = 'wav')\n",
    "    os.remove(data_path + inpt + input_format)"
   ]
  },
  {
   "cell_type": "code",
   "execution_count": 13,
   "id": "8c5e56da",
   "metadata": {},
   "outputs": [],
   "source": [
    "for cv in cv_filenames:\n",
    "    convert(cv, cv)"
   ]
  },
  {
   "cell_type": "code",
   "execution_count": null,
   "id": "d40e274a",
   "metadata": {},
   "outputs": [],
   "source": []
  }
 ],
 "metadata": {
  "kernelspec": {
   "display_name": "Python 3 (ipykernel)",
   "language": "python",
   "name": "python3"
  },
  "language_info": {
   "codemirror_mode": {
    "name": "ipython",
    "version": 3
   },
   "file_extension": ".py",
   "mimetype": "text/x-python",
   "name": "python",
   "nbconvert_exporter": "python",
   "pygments_lexer": "ipython3",
   "version": "3.9.12"
  }
 },
 "nbformat": 4,
 "nbformat_minor": 5
}
