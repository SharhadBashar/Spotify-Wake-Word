{
 "cells": [
  {
   "cell_type": "code",
   "execution_count": 2,
   "id": "4d6df445",
   "metadata": {},
   "outputs": [],
   "source": [
    "import pyaudio\n",
    "import wave"
   ]
  },
  {
   "cell_type": "code",
   "execution_count": 21,
   "id": "ebe7e53f",
   "metadata": {},
   "outputs": [],
   "source": [
    "def record(filename):\n",
    "    chunk = 1024  # Record in chunks of 1024 samples\n",
    "    sample_format = pyaudio.paInt32  # 32 bits per sample\n",
    "    channels = 1\n",
    "    fs = 44100  # Record at 44100 samples per second\n",
    "    seconds = 5\n",
    "\n",
    "    p = pyaudio.PyAudio()  # Create an interface to PortAudio\n",
    "\n",
    "    print('Recording' + filename)\n",
    "    print('Start...')\n",
    "\n",
    "    stream = p.open(format = sample_format,\n",
    "                    channels = channels,\n",
    "                    rate = fs,\n",
    "                    frames_per_buffer = chunk,\n",
    "                    input = True)\n",
    "\n",
    "    frames = []  # Initialize array to store frames\n",
    "\n",
    "    # Store data in chunks for 3 seconds\n",
    "    for i in range(0, int(fs / chunk * seconds)):\n",
    "        data = stream.read(chunk)\n",
    "        frames.append(data)\n",
    "\n",
    "    # Stop and close the stream \n",
    "    stream.stop_stream()\n",
    "    stream.close()\n",
    "    # Terminate the PortAudio interface\n",
    "    p.terminate()\n",
    "\n",
    "    print('Finished recording')\n",
    "\n",
    "    # Save the recorded data as a WAV file\n",
    "    wf = wave.open(filename, 'wb')\n",
    "    wf.setnchannels(channels)\n",
    "    wf.setsampwidth(p.get_sample_size(sample_format))\n",
    "    wf.setframerate(fs)\n",
    "    wf.writeframes(b''.join(frames))\n",
    "    wf.close()"
   ]
  },
  {
   "cell_type": "code",
   "execution_count": 33,
   "id": "6169fe44",
   "metadata": {},
   "outputs": [
    {
     "name": "stdout",
     "output_type": "stream",
     "text": [
      "Recording../Data/record/google_2_young_man1.wav\n",
      "Start...\n",
      "Finished recording\n"
     ]
    }
   ],
   "source": [
    "data_path = '../Data/record/'\n",
    "sound_type = {\n",
    "    0: 'spotify_0',\n",
    "    1: 'spotify_1',\n",
    "    2: 'spotify_2',\n",
    "    3: 'spotify_3',\n",
    "    4: 'spotify_4',\n",
    "    5: 'spotify_5',\n",
    "    6: 'spotify_6',\n",
    "    \n",
    "    7: 'siri_0',\n",
    "    8: 'siri_1',\n",
    "    9: 'siri_2',\n",
    "    \n",
    "    10: 'alexa_0',\n",
    "    11: 'alexa_1',\n",
    "    12: 'alexa_2',\n",
    "    \n",
    "    13: 'google_0',\n",
    "    14: 'google_1',\n",
    "    15: 'google_2',\n",
    "    \n",
    "}\n",
    "\n",
    "gender_age = {\n",
    "    0: '_man',\n",
    "    1: '_woman',\n",
    "    \n",
    "    2: '_old_man',\n",
    "    3: '_old_woman',\n",
    "    \n",
    "    4: '_young_man',\n",
    "    5: '_young_woman',\n",
    "    \n",
    "    6: '_kid_man',\n",
    "    7: '_kid woman'\n",
    "}\n",
    "record(data_path + sound_type[15] + gender_age[4] + '_1' + '.wav')"
   ]
  },
  {
   "cell_type": "code",
   "execution_count": null,
   "id": "0e2bd427",
   "metadata": {},
   "outputs": [],
   "source": []
  }
 ],
 "metadata": {
  "kernelspec": {
   "display_name": "Python 3 (ipykernel)",
   "language": "python",
   "name": "python3"
  },
  "language_info": {
   "codemirror_mode": {
    "name": "ipython",
    "version": 3
   },
   "file_extension": ".py",
   "mimetype": "text/x-python",
   "name": "python",
   "nbconvert_exporter": "python",
   "pygments_lexer": "ipython3",
   "version": "3.10.8"
  }
 },
 "nbformat": 4,
 "nbformat_minor": 5
}
