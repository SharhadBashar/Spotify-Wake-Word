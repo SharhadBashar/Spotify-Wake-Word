{
 "cells": [
  {
   "cell_type": "code",
   "execution_count": 53,
   "id": "759e840a",
   "metadata": {},
   "outputs": [],
   "source": [
    "import os\n",
    "import boto3\n",
    "from tqdm import tqdm\n",
    "from glob import glob\n",
    "from pydub import AudioSegment\n",
    "from botocore.exceptions import ClientError"
   ]
  },
  {
   "cell_type": "code",
   "execution_count": 54,
   "id": "23a6f2e9",
   "metadata": {},
   "outputs": [],
   "source": [
    "def print_buckets(s3_client):\n",
    "    response = s3_client.list_buckets()\n",
    "\n",
    "    print('Existing buckets:')\n",
    "    for bucket in response['Buckets']:\n",
    "        print(f'  {bucket[\"Name\"]}')\n",
    "\n",
    "def upload_file(s3_client, file_name, bucket, object_name = None):\n",
    "    if object_name is None:\n",
    "        object_name = os.path.basename(file_name)   \n",
    "    try:\n",
    "        response = s3_client.upload_file(file_name, bucket, object_name)\n",
    "    except ClientError as e:\n",
    "        logging.error(e)\n",
    "\n",
    "def convert_mp3(source, destination):\n",
    "    sound = AudioSegment.from_mp3(source)\n",
    "    sound.export(destination, format = 'wav')        \n",
    "        \n",
    "def print_files_in_buckets(bucket_name):\n",
    "    s3 = boto3.resource('s3')\n",
    "    my_bucket = s3.Bucket(bucket_name)\n",
    "\n",
    "    for object_summary in my_bucket.objects.filter():\n",
    "        print(f'-- {object_summary.key}')\n",
    "    print()"
   ]
  },
  {
   "cell_type": "code",
   "execution_count": 55,
   "id": "036ab9a6",
   "metadata": {
    "scrolled": false
   },
   "outputs": [
    {
     "name": "stderr",
     "output_type": "stream",
     "text": [
      "100%|██████████████████████████████████████████████████████████████████████████████████████████████████████████████████████████████████████████████████████████████████████████████████████████████████████████| 26883/26883 [33:03<00:00, 13.56it/s]\n",
      "100%|████████████████████████████████████████████████████████████████████████████████████████████████████████████████████████████████████████████████████████████████████████████████████████████████████████| 26883/26883 [2:55:36<00:00,  2.55it/s]\n"
     ]
    }
   ],
   "source": [
    "s3_client = boto3.client('s3')\n",
    "\n",
    "files = glob('../Data/cv-corpus/en/clips/*.mp3')\n",
    "for file in tqdm(files):\n",
    "    convert_mp3(file, file.replace('.mp3', '.wav'))\n",
    "    \n",
    "files = glob('../Data/cv-corpus/en/clips/*.wav')\n",
    "for file in tqdm(files):\n",
    "    upload_file(s3_client = s3_client, \n",
    "        file_name = file, \n",
    "        bucket = 'audio-data-wake-word',\n",
    "        object_name = 'cv_corpus_wav/' + file.split('/')[-2] + '_' + file.split('/')[-1]\n",
    "    )"
   ]
  },
  {
   "cell_type": "code",
   "execution_count": null,
   "id": "83cdfd5d",
   "metadata": {},
   "outputs": [],
   "source": []
  }
 ],
 "metadata": {
  "kernelspec": {
   "display_name": "Python 3 (ipykernel)",
   "language": "python",
   "name": "python3"
  },
  "language_info": {
   "codemirror_mode": {
    "name": "ipython",
    "version": 3
   },
   "file_extension": ".py",
   "mimetype": "text/x-python",
   "name": "python",
   "nbconvert_exporter": "python",
   "pygments_lexer": "ipython3",
   "version": "3.10.8"
  }
 },
 "nbformat": 4,
 "nbformat_minor": 5
}
