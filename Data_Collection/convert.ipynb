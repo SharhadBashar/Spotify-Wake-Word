{
 "cells": [
  {
   "cell_type": "code",
   "execution_count": 6,
   "id": "5f977e64",
   "metadata": {},
   "outputs": [],
   "source": [
    "import os\n",
    "import soundfile\n",
    "from os import path\n",
    "from tqdm import tqdm\n",
    "from glob import glob\n",
    "from pydub import AudioSegment"
   ]
  },
  {
   "cell_type": "code",
   "execution_count": 2,
   "id": "693d9e74",
   "metadata": {},
   "outputs": [],
   "source": [
    "data_path = '../Data/test/'\n",
    "input_format = '.mp3'\n",
    "output_format = '.wav'\n",
    "cv_filenames = ['cv_1', 'cv_2', 'cv_3', 'cv_4']\n",
    "wake_words = ['google', 'alexa', 'siri', 'spotify']"
   ]
  },
  {
   "cell_type": "code",
   "execution_count": 5,
   "id": "695d217d",
   "metadata": {},
   "outputs": [],
   "source": [
    "def convert_mp3(source, destination, remove = False):\n",
    "    sound = AudioSegment.from_mp3(source)\n",
    "    sound.export(destination, format = 'wav')\n",
    "    if (remove):\n",
    "        os.remove(source)\n",
    "    \n",
    "def convert_s16le(inpt, out):\n",
    "    sound = AudioSegment.from_wav(data_path + inpt + '.wav')\n",
    "    sound.export(data_path + out + output_format, format='s16le', bitrate='16k')\n",
    "    os.remove(data_path + inpt + input_format)\n",
    "    \n",
    "def conver_pcm(inpt, out):\n",
    "    data, samplerate = soundfile.read(data_path + inpt + '.wav')\n",
    "    soundfile.write('new.wav', data, samplerate, subtype = 'PCM')"
   ]
  },
  {
   "cell_type": "code",
   "execution_count": 7,
   "id": "8c5e56da",
   "metadata": {},
   "outputs": [
    {
     "ename": "IndentationError",
     "evalue": "expected an indented block (4078655104.py, line 3)",
     "output_type": "error",
     "traceback": [
      "\u001b[0;36m  Input \u001b[0;32mIn [7]\u001b[0;36m\u001b[0m\n\u001b[0;31m    #     convert_mp3(file, file.replace('.mp3', '.wav', remove = False))\u001b[0m\n\u001b[0m                                                                         ^\u001b[0m\n\u001b[0;31mIndentationError\u001b[0m\u001b[0;31m:\u001b[0m expected an indented block\n"
     ]
    }
   ],
   "source": [
    "# files = glob('../Data/cv-corpus/en/clips/*.mp3')\n",
    "# for file in tqdm(files):\n",
    "#     convert_mp3(file, file.replace('.mp3', '.wav', remove = False))"
   ]
  },
  {
   "cell_type": "code",
   "execution_count": null,
   "id": "d40e274a",
   "metadata": {},
   "outputs": [],
   "source": []
  }
 ],
 "metadata": {
  "kernelspec": {
   "display_name": "Python 3 (ipykernel)",
   "language": "python",
   "name": "python3"
  },
  "language_info": {
   "codemirror_mode": {
    "name": "ipython",
    "version": 3
   },
   "file_extension": ".py",
   "mimetype": "text/x-python",
   "name": "python",
   "nbconvert_exporter": "python",
   "pygments_lexer": "ipython3",
   "version": "3.9.12"
  }
 },
 "nbformat": 4,
 "nbformat_minor": 5
}
