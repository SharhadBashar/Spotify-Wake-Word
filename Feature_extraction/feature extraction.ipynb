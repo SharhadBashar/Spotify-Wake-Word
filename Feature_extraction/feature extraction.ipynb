{
 "cells": [
  {
   "cell_type": "code",
   "execution_count": 35,
   "id": "4510c273",
   "metadata": {},
   "outputs": [],
   "source": [
    "import librosa\n",
    "import numpy as np\n",
    "import pandas as pd\n",
    "from tqdm import tqdm\n",
    "from glob import glob\n",
    "from ast import literal_eval\n",
    "import matplotlib.pyplot as plt\n",
    "from scipy.io import wavfile as wav\n",
    "from pydub import AudioSegment, silence\n",
    "\n",
    "import warnings\n",
    "warnings.filterwarnings('ignore')"
   ]
  },
  {
   "cell_type": "code",
   "execution_count": 17,
   "id": "90692d96",
   "metadata": {},
   "outputs": [
    {
     "data": {
      "text/plain": [
       "'\\nfeatures db:\\n\\nfile_name\\nsample_rate\\naudio_duration\\nsegments or onsets\\nfeatures: 100\\n\\nlabel: 0 or 1\\n'"
      ]
     },
     "execution_count": 17,
     "metadata": {},
     "output_type": "execute_result"
    }
   ],
   "source": [
    "'''\n",
    "features db:\n",
    "\n",
    "file_name\n",
    "sample_rate\n",
    "audio_duration\n",
    "segments or onsets\n",
    "features: 100\n",
    "\n",
    "label: 0 or 1\n",
    "'''"
   ]
  },
  {
   "cell_type": "code",
   "execution_count": 44,
   "id": "0363c68f",
   "metadata": {
    "scrolled": false
   },
   "outputs": [],
   "source": [
    "def get_feature(audio_data, sr):\n",
    "    mfccs = librosa.feature.mfcc(y = audio_data, sr = sr, n_mfcc = 100)\n",
    "    mfccs_scaled = np.mean(mfccs.T, axis = 0)\n",
    "    return mfccs_scaled   \n",
    "\n",
    "\n",
    "def get_features_df():\n",
    "    files = glob('../Data/0/*.wav')\n",
    "    data_array = []    \n",
    "    data_struct = {\n",
    "        'file_name': '',\n",
    "        'sample_rate': 0,\n",
    "        'audio_duration': 0,\n",
    "        'segments': 0,\n",
    "        'features': [],\n",
    "        'label': 0\n",
    "    }\n",
    "\n",
    "    for i, file in enumerate(tqdm(files)):    \n",
    "        data = data_struct.copy()\n",
    "\n",
    "        audio_data, sr = librosa.load(file)\n",
    "\n",
    "        features = get_feature(audio_data, sr)\n",
    "        duration = round(librosa.get_duration(y = audio_data, sr = sr), 4)\n",
    "\n",
    "        audio_data = np.abs(audio_data)\n",
    "        audio_data = audio_data[audio_data > 0.027]\n",
    "        onset = librosa.onset.onset_detect(y = audio_data, sr = sr, units = 'time')\n",
    "\n",
    "        data['file_name'] = file.split('/')[-1].split('.wav')[0]\n",
    "        data['sample_rate'] = sr\n",
    "        data['audio_duration'] = duration\n",
    "        data['segments'] = len(onset)\n",
    "        data['features'] = features.tolist()\n",
    "        \n",
    "        data['label'] = 1 if 'spotify' in file else 0\n",
    "\n",
    "        data_array.append(data)\n",
    "\n",
    "        if (i % 100 == 0):\n",
    "            df = pd.DataFrame.from_dict(data_array)\n",
    "            if (i == 100):\n",
    "                df.to_csv('features_0.csv', index = False)\n",
    "            else:\n",
    "                df.to_csv('features_0.csv', mode = 'a', index = False, header = False)\n",
    "            data_array = []\n"
   ]
  },
  {
   "cell_type": "code",
   "execution_count": 45,
   "id": "4acab1ab",
   "metadata": {},
   "outputs": [
    {
     "name": "stderr",
     "output_type": "stream",
     "text": [
      "100%|████████████████████████████████████████████████████████████████████████████████████████████████████████████████████████████████████████████████████████████████████████████████████████████████████████| 91604/91604 [1:22:00<00:00, 18.62it/s]\n"
     ]
    }
   ],
   "source": [
    "get_features_df()"
   ]
  },
  {
   "cell_type": "code",
   "execution_count": 46,
   "id": "1416e6f7",
   "metadata": {},
   "outputs": [
    {
     "data": {
      "text/html": [
       "<div>\n",
       "<style scoped>\n",
       "    .dataframe tbody tr th:only-of-type {\n",
       "        vertical-align: middle;\n",
       "    }\n",
       "\n",
       "    .dataframe tbody tr th {\n",
       "        vertical-align: top;\n",
       "    }\n",
       "\n",
       "    .dataframe thead th {\n",
       "        text-align: right;\n",
       "    }\n",
       "</style>\n",
       "<table border=\"1\" class=\"dataframe\">\n",
       "  <thead>\n",
       "    <tr style=\"text-align: right;\">\n",
       "      <th></th>\n",
       "      <th>file_name</th>\n",
       "      <th>sample_rate</th>\n",
       "      <th>audio_duration</th>\n",
       "      <th>segments</th>\n",
       "      <th>features</th>\n",
       "      <th>label</th>\n",
       "    </tr>\n",
       "  </thead>\n",
       "  <tbody>\n",
       "    <tr>\n",
       "      <th>0</th>\n",
       "      <td>seven_e5d2e09d_0</td>\n",
       "      <td>22050</td>\n",
       "      <td>1.0000</td>\n",
       "      <td>1</td>\n",
       "      <td>[-407.48779296875, 26.30790901184082, -40.1006...</td>\n",
       "      <td>0</td>\n",
       "    </tr>\n",
       "    <tr>\n",
       "      <th>1</th>\n",
       "      <td>34472100</td>\n",
       "      <td>22050</td>\n",
       "      <td>6.9120</td>\n",
       "      <td>12</td>\n",
       "      <td>[-416.98724365234375, 92.47309112548828, -8.72...</td>\n",
       "      <td>0</td>\n",
       "    </tr>\n",
       "    <tr>\n",
       "      <th>2</th>\n",
       "      <td>marvin_ff63ab0b_1</td>\n",
       "      <td>22050</td>\n",
       "      <td>0.9387</td>\n",
       "      <td>1</td>\n",
       "      <td>[-399.8287048339844, 95.04105377197266, -17.59...</td>\n",
       "      <td>0</td>\n",
       "    </tr>\n",
       "    <tr>\n",
       "      <th>3</th>\n",
       "      <td>dog_4abefdf5_0</td>\n",
       "      <td>22050</td>\n",
       "      <td>1.0000</td>\n",
       "      <td>1</td>\n",
       "      <td>[-318.41986083984375, 138.63055419921875, -53....</td>\n",
       "      <td>0</td>\n",
       "    </tr>\n",
       "    <tr>\n",
       "      <th>4</th>\n",
       "      <td>33245550</td>\n",
       "      <td>22050</td>\n",
       "      <td>5.1120</td>\n",
       "      <td>16</td>\n",
       "      <td>[-341.4693908691406, 66.61758422851562, -2.174...</td>\n",
       "      <td>0</td>\n",
       "    </tr>\n",
       "  </tbody>\n",
       "</table>\n",
       "</div>"
      ],
      "text/plain": [
       "           file_name  sample_rate  audio_duration  segments  \\\n",
       "0   seven_e5d2e09d_0        22050          1.0000         1   \n",
       "1           34472100        22050          6.9120        12   \n",
       "2  marvin_ff63ab0b_1        22050          0.9387         1   \n",
       "3     dog_4abefdf5_0        22050          1.0000         1   \n",
       "4           33245550        22050          5.1120        16   \n",
       "\n",
       "                                            features  label  \n",
       "0  [-407.48779296875, 26.30790901184082, -40.1006...      0  \n",
       "1  [-416.98724365234375, 92.47309112548828, -8.72...      0  \n",
       "2  [-399.8287048339844, 95.04105377197266, -17.59...      0  \n",
       "3  [-318.41986083984375, 138.63055419921875, -53....      0  \n",
       "4  [-341.4693908691406, 66.61758422851562, -2.174...      0  "
      ]
     },
     "execution_count": 46,
     "metadata": {},
     "output_type": "execute_result"
    }
   ],
   "source": [
    "df = pd.read_csv('features_0.csv', converters = {'features': literal_eval})\n",
    "df.head()"
   ]
  },
  {
   "cell_type": "code",
   "execution_count": null,
   "id": "d27bfa3e",
   "metadata": {},
   "outputs": [],
   "source": []
  }
 ],
 "metadata": {
  "kernelspec": {
   "display_name": "Python 3 (ipykernel)",
   "language": "python",
   "name": "python3"
  },
  "language_info": {
   "codemirror_mode": {
    "name": "ipython",
    "version": 3
   },
   "file_extension": ".py",
   "mimetype": "text/x-python",
   "name": "python",
   "nbconvert_exporter": "python",
   "pygments_lexer": "ipython3",
   "version": "3.10.8"
  }
 },
 "nbformat": 4,
 "nbformat_minor": 5
}
