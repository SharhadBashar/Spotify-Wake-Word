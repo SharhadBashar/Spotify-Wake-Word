{
 "cells": [
  {
   "cell_type": "code",
   "execution_count": 1,
   "id": "5f977e64",
   "metadata": {},
   "outputs": [],
   "source": [
    "import os\n",
    "from os import path\n",
    "import soundfile\n",
    "from pydub import AudioSegment"
   ]
  },
  {
   "cell_type": "code",
   "execution_count": 2,
   "id": "693d9e74",
   "metadata": {},
   "outputs": [],
   "source": [
    "data_path = '../Data/test/'\n",
    "input_format = '.mp3'\n",
    "output_format = '.wav'\n",
    "cv_filenames = ['cv_1', 'cv_2', 'cv_3', 'cv_4']\n",
    "wake_words = ['google', 'alexa', 'siri', 'spotify']"
   ]
  },
  {
   "cell_type": "code",
   "execution_count": 3,
   "id": "695d217d",
   "metadata": {},
   "outputs": [],
   "source": [
    "def convert(inpt, out):\n",
    "    sound = AudioSegment.from_wav(data_path + inpt + '.wav')\n",
    "    sound.export(data_path + out + output_format, format='s16le', bitrate='16k')\n",
    "#     os.remove(data_path + inpt + input_format)\n",
    "\n",
    "def convert_mp3(source, destination):\n",
    "    sound = AudioSegment.from_mp3(source)\n",
    "    sound.export(destination, format = 'wav')\n",
    "\n",
    "def conver_pcm(inpt, out):\n",
    "    data, samplerate = soundfile.read(data_path + inpt + '.wav')\n",
    "    soundfile.write('new.wav', data, samplerate, subtype = 'PCM')"
   ]
  },
  {
   "cell_type": "code",
   "execution_count": 4,
   "id": "8c5e56da",
   "metadata": {},
   "outputs": [],
   "source": [
    "convert_mp3(data_path + 'cv_5.mp3', data_path + 'cv_5.wav')"
   ]
  },
  {
   "cell_type": "code",
   "execution_count": null,
   "id": "d40e274a",
   "metadata": {},
   "outputs": [],
   "source": []
  }
 ],
 "metadata": {
  "kernelspec": {
   "display_name": "Python 3 (ipykernel)",
   "language": "python",
   "name": "python3"
  },
  "language_info": {
   "codemirror_mode": {
    "name": "ipython",
    "version": 3
   },
   "file_extension": ".py",
   "mimetype": "text/x-python",
   "name": "python",
   "nbconvert_exporter": "python",
   "pygments_lexer": "ipython3",
   "version": "3.9.12"
  }
 },
 "nbformat": 4,
 "nbformat_minor": 5
}
